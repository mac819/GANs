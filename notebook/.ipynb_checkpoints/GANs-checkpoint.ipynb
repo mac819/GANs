{
 "cells": [
  {
   "cell_type": "markdown",
   "id": "8b122b00",
   "metadata": {
    "id": "8b122b00",
    "toc": true
   },
   "source": [
    "<h1>Table of Contents<span class=\"tocSkip\"></span></h1>\n",
    "<div class=\"toc\"><ul class=\"toc-item\"><li><span><a href=\"#Datasets\" data-toc-modified-id=\"Datasets-1\"><span class=\"toc-item-num\">1&nbsp;&nbsp;</span>Datasets</a></span></li><li><span><a href=\"#Models\" data-toc-modified-id=\"Models-2\"><span class=\"toc-item-num\">2&nbsp;&nbsp;</span>Models</a></span><ul class=\"toc-item\"><li><span><a href=\"#Generator-Model\" data-toc-modified-id=\"Generator-Model-2.1\"><span class=\"toc-item-num\">2.1&nbsp;&nbsp;</span>Generator Model</a></span></li><li><span><a href=\"#Discriminator-Model\" data-toc-modified-id=\"Discriminator-Model-2.2\"><span class=\"toc-item-num\">2.2&nbsp;&nbsp;</span>Discriminator Model</a></span></li></ul></li><li><span><a href=\"#Training-Model\" data-toc-modified-id=\"Training-Model-3\"><span class=\"toc-item-num\">3&nbsp;&nbsp;</span>Training Model</a></span></li></ul></div>"
   ]
  },
  {
   "cell_type": "code",
   "execution_count": 1,
   "id": "qj8DurzRw6xP",
   "metadata": {
    "executionInfo": {
     "elapsed": 566,
     "status": "ok",
     "timestamp": 1633879147961,
     "user": {
      "displayName": "Mayank Anand",
      "photoUrl": "https://lh3.googleusercontent.com/a/default-user=s64",
      "userId": "09467967711081752301"
     },
     "user_tz": -330
    },
    "id": "qj8DurzRw6xP"
   },
   "outputs": [],
   "source": [
    "# from google.colab import drive\n",
    "# drive.mount('/content/drive')"
   ]
  },
  {
   "cell_type": "code",
   "execution_count": 2,
   "id": "30a949fa",
   "metadata": {
    "executionInfo": {
     "elapsed": 5,
     "status": "ok",
     "timestamp": 1633879148606,
     "user": {
      "displayName": "Mayank Anand",
      "photoUrl": "https://lh3.googleusercontent.com/a/default-user=s64",
      "userId": "09467967711081752301"
     },
     "user_tz": -330
    },
    "id": "30a949fa"
   },
   "outputs": [],
   "source": [
    "import os\n",
    "os.chdir(\"drive/MyDrive/VAE/\")"
   ]
  },
  {
   "cell_type": "code",
   "execution_count": 3,
   "id": "5a4a31ff",
   "metadata": {
    "executionInfo": {
     "elapsed": 1611,
     "status": "ok",
     "timestamp": 1633879150213,
     "user": {
      "displayName": "Mayank Anand",
      "photoUrl": "https://lh3.googleusercontent.com/a/default-user=s64",
      "userId": "09467967711081752301"
     },
     "user_tz": -330
    },
    "id": "5a4a31ff"
   },
   "outputs": [],
   "source": [
    "import glob\n",
    "import numpy as np\n",
    "import pandas as pd\n",
    "import tensorflow as tf\n",
    "from tensorflow import keras\n",
    "import matplotlib.pyplot as plt\n",
    "import IPython.display as display\n",
    "\n",
    "from gans.config import *\n",
    "from gans.data_processing import read_tfrecord"
   ]
  },
  {
   "cell_type": "code",
   "execution_count": 4,
   "id": "0c807cee",
   "metadata": {
    "colab": {
     "base_uri": "https://localhost:8080/"
    },
    "executionInfo": {
     "elapsed": 21,
     "status": "ok",
     "timestamp": 1633879150217,
     "user": {
      "displayName": "Mayank Anand",
      "photoUrl": "https://lh3.googleusercontent.com/a/default-user=s64",
      "userId": "09467967711081752301"
     },
     "user_tz": -330
    },
    "id": "0c807cee",
    "outputId": "a99d3f19-7169-4745-88a9-9aac13b3b54e"
   },
   "outputs": [
    {
     "name": "stdout",
     "output_type": "stream",
     "text": [
      "Tensorflow Version: 2.6.0\n",
      "Pandas Version: 1.1.5\n",
      "Numpy Version: 1.19.5\n"
     ]
    }
   ],
   "source": [
    "print(f\"Tensorflow Version: {tf.__version__}\")\n",
    "print(f\"Pandas Version: {pd.__version__}\")\n",
    "print(f\"Numpy Version: {np.__version__}\")"
   ]
  },
  {
   "cell_type": "markdown",
   "id": "c7a8a659",
   "metadata": {
    "id": "c7a8a659"
   },
   "source": [
    "# Datasets"
   ]
  },
  {
   "cell_type": "code",
   "execution_count": 5,
   "id": "36fbd9dd",
   "metadata": {
    "executionInfo": {
     "elapsed": 17,
     "status": "ok",
     "timestamp": 1633879150217,
     "user": {
      "displayName": "Mayank Anand",
      "photoUrl": "https://lh3.googleusercontent.com/a/default-user=s64",
      "userId": "09467967711081752301"
     },
     "user_tz": -330
    },
    "id": "36fbd9dd"
   },
   "outputs": [],
   "source": [
    "file_path = MONET_TFREC_PATH + \"/*.tfrec\""
   ]
  },
  {
   "cell_type": "code",
   "execution_count": 6,
   "id": "50cfcf5c",
   "metadata": {
    "colab": {
     "base_uri": "https://localhost:8080/"
    },
    "executionInfo": {
     "elapsed": 16,
     "status": "ok",
     "timestamp": 1633879150217,
     "user": {
      "displayName": "Mayank Anand",
      "photoUrl": "https://lh3.googleusercontent.com/a/default-user=s64",
      "userId": "09467967711081752301"
     },
     "user_tz": -330
    },
    "id": "50cfcf5c",
    "outputId": "cff3a11c-94bf-4c22-a4f8-7a50ab9e859b"
   },
   "outputs": [
    {
     "name": "stdout",
     "output_type": "stream",
     "text": [
      "5 20\n"
     ]
    }
   ],
   "source": [
    "monet_file_path = glob.glob(MONET_TFREC_PATH + \"/*.tfrec\")\n",
    "photo_file_path = glob.glob(PHOTO_TFREC_PATH + \"/*.tfrec\")\n",
    "print(len(monet_file_path), len(photo_file_path))"
   ]
  },
  {
   "cell_type": "code",
   "execution_count": 7,
   "id": "ac29e157",
   "metadata": {
    "executionInfo": {
     "elapsed": 9,
     "status": "ok",
     "timestamp": 1633879150218,
     "user": {
      "displayName": "Mayank Anand",
      "photoUrl": "https://lh3.googleusercontent.com/a/default-user=s64",
      "userId": "09467967711081752301"
     },
     "user_tz": -330
    },
    "id": "ac29e157"
   },
   "outputs": [],
   "source": [
    "photo_dataset = tf.data.TFRecordDataset(photo_file_path)\n",
    "monet_dataset = tf.data.TFRecordDataset(monet_file_path)"
   ]
  },
  {
   "cell_type": "code",
   "execution_count": 8,
   "id": "9e780690",
   "metadata": {
    "executionInfo": {
     "elapsed": 8,
     "status": "ok",
     "timestamp": 1633879150218,
     "user": {
      "displayName": "Mayank Anand",
      "photoUrl": "https://lh3.googleusercontent.com/a/default-user=s64",
      "userId": "09467967711081752301"
     },
     "user_tz": -330
    },
    "id": "9e780690"
   },
   "outputs": [],
   "source": [
    "parsed_monet_dataset = monet_dataset.map(read_tfrecord)\n",
    "parsed_photo_dataset = photo_dataset.map(read_tfrecord)"
   ]
  },
  {
   "cell_type": "code",
   "execution_count": 9,
   "id": "795360de",
   "metadata": {
    "executionInfo": {
     "elapsed": 8,
     "status": "ok",
     "timestamp": 1633879150218,
     "user": {
      "displayName": "Mayank Anand",
      "photoUrl": "https://lh3.googleusercontent.com/a/default-user=s64",
      "userId": "09467967711081752301"
     },
     "user_tz": -330
    },
    "id": "795360de"
   },
   "outputs": [],
   "source": [
    "def scale_image(data):\n",
    "    return data/255\n",
    "\n",
    "scaled_monet_dataset = parsed_monet_dataset.map(scale_image)\n",
    "scaled_photo_dataset = parsed_photo_dataset.map(scale_image)"
   ]
  },
  {
   "cell_type": "code",
   "execution_count": 10,
   "id": "9b08e7f2",
   "metadata": {
    "executionInfo": {
     "elapsed": 8,
     "status": "ok",
     "timestamp": 1633879150219,
     "user": {
      "displayName": "Mayank Anand",
      "photoUrl": "https://lh3.googleusercontent.com/a/default-user=s64",
      "userId": "09467967711081752301"
     },
     "user_tz": -330
    },
    "id": "9b08e7f2"
   },
   "outputs": [],
   "source": [
    "IMAGE_HEIGHT = 256\n",
    "IMAGE_WIDTH = 256\n",
    "IMAGE_DEPTH = 3\n",
    "\n",
    "NOISE_DIM = 96"
   ]
  },
  {
   "cell_type": "markdown",
   "id": "5eef55bd",
   "metadata": {
    "id": "5eef55bd"
   },
   "source": [
    "# Models"
   ]
  },
  {
   "cell_type": "code",
   "execution_count": 11,
   "id": "b1c24775",
   "metadata": {
    "executionInfo": {
     "elapsed": 644,
     "status": "ok",
     "timestamp": 1633879150856,
     "user": {
      "displayName": "Mayank Anand",
      "photoUrl": "https://lh3.googleusercontent.com/a/default-user=s64",
      "userId": "09467967711081752301"
     },
     "user_tz": -330
    },
    "id": "b1c24775"
   },
   "outputs": [],
   "source": [
    "g_optimizer = tf.keras.optimizers.Adam(learning_rate=0.001)\n",
    "d_optimizer = tf.keras.optimizers.Adam(learning_rate=0.003)\n",
    "\n",
    "lossFunc = keras.losses.BinaryCrossentropy(from_logits=False)"
   ]
  },
  {
   "cell_type": "markdown",
   "id": "2df72ab4",
   "metadata": {
    "id": "2df72ab4"
   },
   "source": [
    "## Generator Model"
   ]
  },
  {
   "cell_type": "code",
   "execution_count": 12,
   "id": "2073905a",
   "metadata": {
    "executionInfo": {
     "elapsed": 4,
     "status": "ok",
     "timestamp": 1633879150857,
     "user": {
      "displayName": "Mayank Anand",
      "photoUrl": "https://lh3.googleusercontent.com/a/default-user=s64",
      "userId": "09467967711081752301"
     },
     "user_tz": -330
    },
    "id": "2073905a"
   },
   "outputs": [],
   "source": [
    "generator_model = keras.models.Sequential(\n",
    "    [\n",
    "        # Dense Layers\n",
    "        keras.layers.Dense(192, activation=\"relu\"),\n",
    "        keras.layers.Dense(384, activation=\"relu\"),\n",
    "        keras.layers.Dense(768, activation=\"relu\"),        \n",
    "        keras.layers.Reshape((16, 16, 3)),\n",
    "        \n",
    "        \n",
    "        keras.layers.Conv2DTranspose(filters=64, kernel_size=3, strides=2, padding=\"same\"),\n",
    "        keras.layers.BatchNormalization(),\n",
    "        keras.layers.LeakyReLU(),\n",
    "        keras.layers.Conv2DTranspose(filters=64, kernel_size=3, strides=1, padding=\"same\"),\n",
    "        keras.layers.BatchNormalization(),\n",
    "        keras.layers.LeakyReLU(),\n",
    "        \n",
    "        keras.layers.Conv2DTranspose(filters=32, kernel_size=3, strides=2, padding=\"same\"),\n",
    "        keras.layers.BatchNormalization(),\n",
    "        keras.layers.LeakyReLU(),\n",
    "        keras.layers.Conv2DTranspose(filters=32, kernel_size=3, strides=1, padding=\"same\"),\n",
    "        keras.layers.BatchNormalization(),\n",
    "        keras.layers.LeakyReLU(),\n",
    "        \n",
    "        \n",
    "        keras.layers.Conv2DTranspose(filters=16, kernel_size=3, strides=2, padding=\"same\"),\n",
    "        keras.layers.BatchNormalization(),\n",
    "        keras.layers.LeakyReLU(),\n",
    "        keras.layers.Conv2DTranspose(filters=16, kernel_size=3, strides=1, padding=\"same\"),\n",
    "        keras.layers.BatchNormalization(),\n",
    "        keras.layers.LeakyReLU(),\n",
    "        \n",
    "        \n",
    "        keras.layers.Conv2DTranspose(filters=8, kernel_size=3, strides=2, padding=\"same\"),\n",
    "        keras.layers.BatchNormalization(),\n",
    "        keras.layers.LeakyReLU(),\n",
    "        keras.layers.Conv2DTranspose(filters=8, kernel_size=3, strides=1, padding=\"same\"),\n",
    "        keras.layers.BatchNormalization(),\n",
    "        keras.layers.LeakyReLU(),\n",
    "        \n",
    "        keras.layers.Conv2DTranspose(filters=3, kernel_size=3, strides=1, activation=\"sigmoid\", padding=\"same\")\n",
    "    ]\n",
    ")"
   ]
  },
  {
   "cell_type": "code",
   "execution_count": 13,
   "id": "82eb37d9",
   "metadata": {
    "executionInfo": {
     "elapsed": 4,
     "status": "ok",
     "timestamp": 1633879150857,
     "user": {
      "displayName": "Mayank Anand",
      "photoUrl": "https://lh3.googleusercontent.com/a/default-user=s64",
      "userId": "09467967711081752301"
     },
     "user_tz": -330
    },
    "id": "82eb37d9"
   },
   "outputs": [],
   "source": [
    "@tf.function\n",
    "def train_Gstep(rand_noise):\n",
    "    \n",
    "    \"\"\"\n",
    "    Generates Image from vector coming from assumed probability distribution.\n",
    "    The objective is to generate the image such that discriminator fails to recognize it as fake image.\n",
    "    So generator is trained as image classification problem with penalising it if image generated \n",
    "    generator is correctly identified as fake by discriminator.\n",
    "    \n",
    "    Shape of rand_noise: (batch_size, latent_dim)\n",
    "    \"\"\"\n",
    "    batch_size = rand_noise.shape[0]\n",
    "    y_true = tf.ones(shape=(batch_size, ))\n",
    "    with tf.GradientTape() as tape:\n",
    "        gen_img = generator_model(rand_noise)\n",
    "        y_pred = discriminator_model(gen_img)\n",
    "        gLoss = lossFunc(y_true, y_pred)\n",
    "        \n",
    "    g_grads = tape.gradient(gLoss, generator_model.trainable_weights)\n",
    "    g_optimizer.apply_gradients(zip(g_grads, generator_model.trainable_weights))\n",
    "    \n",
    "    return gLoss, gen_img"
   ]
  },
  {
   "cell_type": "markdown",
   "id": "13814f19",
   "metadata": {
    "id": "13814f19"
   },
   "source": [
    "## Discriminator Model"
   ]
  },
  {
   "cell_type": "code",
   "execution_count": 14,
   "id": "153079ab",
   "metadata": {
    "executionInfo": {
     "elapsed": 3,
     "status": "ok",
     "timestamp": 1633879150857,
     "user": {
      "displayName": "Mayank Anand",
      "photoUrl": "https://lh3.googleusercontent.com/a/default-user=s64",
      "userId": "09467967711081752301"
     },
     "user_tz": -330
    },
    "id": "153079ab"
   },
   "outputs": [],
   "source": [
    "discriminator_model = keras.models.Sequential(\n",
    "    [\n",
    "        keras.layers.Conv2D(filters=64, kernel_size=3, strides=1, padding=\"same\"),\n",
    "        keras.layers.BatchNormalization(),\n",
    "        keras.layers.LeakyReLU(),\n",
    "        keras.layers.Conv2D(filters=64, kernel_size=3, strides=2, padding=\"same\"),\n",
    "        keras.layers.BatchNormalization(),\n",
    "        keras.layers.LeakyReLU(),\n",
    "        \n",
    "        keras.layers.Conv2D(filters=32, kernel_size=3, strides=1, padding=\"same\"),\n",
    "        keras.layers.BatchNormalization(),\n",
    "        keras.layers.LeakyReLU(),\n",
    "        keras.layers.Conv2D(filters=32, kernel_size=3, strides=2, padding=\"same\"),\n",
    "        keras.layers.BatchNormalization(),\n",
    "        keras.layers.LeakyReLU(),\n",
    "        \n",
    "        keras.layers.Conv2D(filters=16, kernel_size=3, strides=1, padding=\"same\"),\n",
    "        keras.layers.BatchNormalization(),\n",
    "        keras.layers.LeakyReLU(),\n",
    "        keras.layers.Conv2D(filters=16, kernel_size=3, strides=2, padding=\"same\"),\n",
    "        keras.layers.BatchNormalization(),\n",
    "        keras.layers.LeakyReLU(),\n",
    "        \n",
    "        keras.layers.Conv2D(filters=8, kernel_size=3, strides=1, padding=\"same\"),\n",
    "        keras.layers.BatchNormalization(),\n",
    "        keras.layers.LeakyReLU(),\n",
    "        keras.layers.Conv2D(filters=8, kernel_size=3, strides=2, padding=\"same\"),\n",
    "        keras.layers.BatchNormalization(),\n",
    "        keras.layers.LeakyReLU(),\n",
    "        \n",
    "        keras.layers.Conv2D(filters=1, kernel_size=3, strides=1, padding=\"same\"),\n",
    "        keras.layers.BatchNormalization(),\n",
    "        keras.layers.LeakyReLU(),\n",
    "        keras.layers.Conv2D(filters=1, kernel_size=3, strides=2, padding=\"same\"),\n",
    "        keras.layers.BatchNormalization(),\n",
    "        keras.layers.LeakyReLU(),\n",
    "        \n",
    "        keras.layers.Flatten(), # 8*8*1\n",
    "        keras.layers.Dense(32, activation=\"relu\"),\n",
    "        keras.layers.Dense(16, activation=\"relu\"),\n",
    "        keras.layers.Dense(8, activation=\"relu\"),\n",
    "        keras.layers.Dense(1, activation=\"sigmoid\")\n",
    "        \n",
    "    ]\n",
    ")"
   ]
  },
  {
   "cell_type": "code",
   "execution_count": 15,
   "id": "c8ce52ca",
   "metadata": {
    "executionInfo": {
     "elapsed": 3,
     "status": "ok",
     "timestamp": 1633879150857,
     "user": {
      "displayName": "Mayank Anand",
      "photoUrl": "https://lh3.googleusercontent.com/a/default-user=s64",
      "userId": "09467967711081752301"
     },
     "user_tz": -330
    },
    "id": "c8ce52ca"
   },
   "outputs": [],
   "source": [
    "@tf.function\n",
    "def train_Dstep(image_data, target_data):\n",
    "    \"\"\"\n",
    "    Discriminator Model identifies if the image is fake or real\n",
    "    \"\"\"\n",
    "    # Creating Target Tensor for Discriminator\n",
    "    with tf.GradientTape() as tape:\n",
    "        y_pred = discriminator_model(image_data)\n",
    "        dLoss = lossFunc(target_data, y_pred)\n",
    "    \n",
    "    d_grad = tape.gradient(dLoss, discriminator_model.trainable_weights)\n",
    "    d_optimizer.apply_gradients(zip(d_grad, discriminator_model.trainable_weights))\n",
    "    \n",
    "    return dLoss"
   ]
  },
  {
   "cell_type": "markdown",
   "id": "b8633055",
   "metadata": {
    "id": "b8633055"
   },
   "source": [
    "# Training Model"
   ]
  },
  {
   "cell_type": "code",
   "execution_count": 16,
   "id": "9f0a4200",
   "metadata": {
    "colab": {
     "base_uri": "https://localhost:8080/"
    },
    "executionInfo": {
     "elapsed": 1691448,
     "status": "ok",
     "timestamp": 1633880842303,
     "user": {
      "displayName": "Mayank Anand",
      "photoUrl": "https://lh3.googleusercontent.com/a/default-user=s64",
      "userId": "09467967711081752301"
     },
     "user_tz": -330
    },
    "id": "9f0a4200",
    "outputId": "612818b1-4527-4192-fe0c-e9ee99b407c9",
    "scrolled": true
   },
   "outputs": [
    {
     "name": "stdout",
     "output_type": "stream",
     "text": [
      "Epoch: 1, Generator Loss: 1.38666832447052, Discriminator Loss: 1.3865457773208618\n",
      "Epoch: 2, Generator Loss: 1.379817247390747, Discriminator Loss: 1.3855911493301392\n",
      "Epoch: 3, Generator Loss: 1.3524150848388672, Discriminator Loss: 1.377824068069458\n",
      "Epoch: 4, Generator Loss: 0.9850360155105591, Discriminator Loss: 1.2782484292984009\n",
      "Epoch: 5, Generator Loss: 1.8690783977508545, Discriminator Loss: 1.3952968120574951\n",
      "Epoch: 6, Generator Loss: 0.45914188027381897, Discriminator Loss: 0.9332890510559082\n",
      "Epoch: 7, Generator Loss: 0.4774337112903595, Discriminator Loss: 1.1968460083007812\n",
      "Epoch: 8, Generator Loss: 0.9478843212127686, Discriminator Loss: 1.175907015800476\n",
      "Epoch: 9, Generator Loss: 0.9821488261222839, Discriminator Loss: 1.1069481372833252\n",
      "Epoch: 10, Generator Loss: 0.49318015575408936, Discriminator Loss: 0.7311494946479797\n",
      "Epoch: 11, Generator Loss: 0.012312624603509903, Discriminator Loss: 0.2505640387535095\n",
      "Epoch: 12, Generator Loss: 0.3842766284942627, Discriminator Loss: 0.1970694214105606\n",
      "Epoch: 13, Generator Loss: 0.0, Discriminator Loss: 0.2524949610233307\n",
      "Epoch: 14, Generator Loss: 0.0, Discriminator Loss: 0.6361637711524963\n",
      "Epoch: 15, Generator Loss: 0.1710820496082306, Discriminator Loss: 0.27518996596336365\n",
      "Epoch: 16, Generator Loss: 0.17548444867134094, Discriminator Loss: 0.21331387758255005\n",
      "Epoch: 17, Generator Loss: 0.08905961364507675, Discriminator Loss: 0.045888274908065796\n",
      "Epoch: 18, Generator Loss: 0.0014363008085638285, Discriminator Loss: 0.0007183081470429897\n",
      "Epoch: 19, Generator Loss: 0.0011854181066155434, Discriminator Loss: 0.0005928203463554382\n",
      "Epoch: 20, Generator Loss: 0.00484433863312006, Discriminator Loss: 0.0024222838692367077\n",
      "Epoch: 21, Generator Loss: 1.9185249300335272e-07, Discriminator Loss: 1.8492117703772237e-07\n",
      "Epoch: 22, Generator Loss: 0.0, Discriminator Loss: 1.805819138667175e-08\n",
      "Epoch: 23, Generator Loss: 0.0, Discriminator Loss: 2.0543868828326595e-09\n",
      "Epoch: 24, Generator Loss: 0.0, Discriminator Loss: 2.2063477433942325e-10\n",
      "Epoch: 25, Generator Loss: 0.0, Discriminator Loss: 6.30690222269692e-11\n",
      "Epoch: 26, Generator Loss: 0.0, Discriminator Loss: 3.416337698847194e-11\n",
      "Epoch: 27, Generator Loss: 0.0, Discriminator Loss: 2.4029965517424756e-11\n",
      "Epoch: 28, Generator Loss: 0.0, Discriminator Loss: 1.6284191009519056e-11\n",
      "Epoch: 29, Generator Loss: 0.0, Discriminator Loss: 1.2886767174202785e-11\n",
      "Epoch: 30, Generator Loss: 0.0, Discriminator Loss: 3.039050261444132e-11\n",
      "Epoch: 31, Generator Loss: 0.0, Discriminator Loss: 4.078797855022742e-10\n",
      "Epoch: 32, Generator Loss: 0.0, Discriminator Loss: 7.0215642189452865e-09\n"
     ]
    }
   ],
   "source": [
    "epoch = 32\n",
    "\n",
    "lst_g_loss, lst_d_loss = [], []\n",
    "for i in range(epoch):\n",
    "    \n",
    "    gLoss, dLoss = 0, 0\n",
    "    for data in scaled_monet_dataset.batch(32).take(2):\n",
    "        \n",
    "        batch_size = tf.shape(data)[0].numpy()\n",
    "        noise = tf.random.normal(shape=(batch_size, NOISE_DIM))\n",
    "    \n",
    "        g_loss, gen_img = train_Gstep(noise)\n",
    "        \n",
    "        concat_data = tf.concat([data, gen_img], axis=0)\n",
    "        target_data = tf.concat([\n",
    "            tf.zeros(shape=(batch_size, 1)), \n",
    "            tf.ones(shape=(batch_size, 1))\n",
    "        ], axis=0)\n",
    "        \n",
    "        d_loss = train_Dstep(image_data=concat_data, target_data=target_data)\n",
    "\n",
    "        gLoss += g_loss\n",
    "        dLoss += d_loss\n",
    "    lst_g_loss.append(gLoss)\n",
    "    lst_d_loss.append(dLoss)\n",
    "    \n",
    "    print(f\"Epoch: {i+1}, Generator Loss: {gLoss}, Discriminator Loss: {dLoss}\")"
   ]
  },
  {
   "cell_type": "code",
   "execution_count": 17,
   "id": "4d53f8df",
   "metadata": {
    "colab": {
     "base_uri": "https://localhost:8080/"
    },
    "executionInfo": {
     "elapsed": 13968,
     "status": "ok",
     "timestamp": 1633888520924,
     "user": {
      "displayName": "Mayank Anand",
      "photoUrl": "https://lh3.googleusercontent.com/a/default-user=s64",
      "userId": "09467967711081752301"
     },
     "user_tz": -330
    },
    "id": "4d53f8df",
    "outputId": "39217d32-7370-4f0f-ca62-349a70ed0b8f"
   },
   "outputs": [
    {
     "name": "stdout",
     "output_type": "stream",
     "text": [
      "WARNING:tensorflow:Compiled the loaded model, but the compiled metrics have yet to be built. `model.compile_metrics` will be empty until you train or evaluate the model.\n",
      "INFO:tensorflow:Assets written to: saved_model/discriminator_model/assets\n",
      "WARNING:tensorflow:Compiled the loaded model, but the compiled metrics have yet to be built. `model.compile_metrics` will be empty until you train or evaluate the model.\n",
      "INFO:tensorflow:Assets written to: saved_model/generator_model/assets\n"
     ]
    }
   ],
   "source": [
    "discriminator_model.save(\"saved_model/discriminator_model\")\n",
    "generator_model.save(\"saved_model/generator_model\")"
   ]
  },
  {
   "cell_type": "code",
   "execution_count": 23,
   "id": "BAguXSJfWZdw",
   "metadata": {
    "executionInfo": {
     "elapsed": 424,
     "status": "ok",
     "timestamp": 1633888617252,
     "user": {
      "displayName": "Mayank Anand",
      "photoUrl": "https://lh3.googleusercontent.com/a/default-user=s64",
      "userId": "09467967711081752301"
     },
     "user_tz": -330
    },
    "id": "BAguXSJfWZdw"
   },
   "outputs": [],
   "source": [
    "import matplotlib.pyplot as plt"
   ]
  },
  {
   "cell_type": "code",
   "execution_count": null,
   "id": "us9i5MyuYFyK",
   "metadata": {
    "id": "us9i5MyuYFyK"
   },
   "outputs": [],
   "source": [
    "generator_model(tf.random.normal(shape=(1, NOISE_DIM)))*255"
   ]
  },
  {
   "cell_type": "code",
   "execution_count": 53,
   "id": "fd3p-DXjWBIH",
   "metadata": {
    "colab": {
     "base_uri": "https://localhost:8080/",
     "height": 269
    },
    "executionInfo": {
     "elapsed": 1205,
     "status": "ok",
     "timestamp": 1633889155850,
     "user": {
      "displayName": "Mayank Anand",
      "photoUrl": "https://lh3.googleusercontent.com/a/default-user=s64",
      "userId": "09467967711081752301"
     },
     "user_tz": -330
    },
    "id": "fd3p-DXjWBIH",
    "outputId": "7589bcd6-00ab-45a6-9999-a7161e1e6214"
   },
   "outputs": [
    {
     "data": {
      "image/png": "[encoded data removed]",
      "text/plain": [
       "<Figure size 432x288 with 1 Axes>"
      ]
     },
     "metadata": {
      "needs_background": "light"
     },
     "output_type": "display_data"
    }
   ],
   "source": [
    "test_gen_img = generator_model(tf.random.normal(shape=(1, NOISE_DIM))*255)\n",
    "plt.imshow(test_gen_img.numpy()[0])\n",
    "plt.show()"
   ]
  },
  {
   "cell_type": "code",
   "execution_count": 36,
   "id": "DdBIHQaAWTOq",
   "metadata": {
    "executionInfo": {
     "elapsed": 981,
     "status": "ok",
     "timestamp": 1633888800803,
     "user": {
      "displayName": "Mayank Anand",
      "photoUrl": "https://lh3.googleusercontent.com/a/default-user=s64",
      "userId": "09467967711081752301"
     },
     "user_tz": -330
    },
    "id": "DdBIHQaAWTOq"
   },
   "outputs": [],
   "source": [
    "import seaborn as sns"
   ]
  },
  {
   "cell_type": "code",
   "execution_count": 41,
   "id": "GONmN7zlXa-1",
   "metadata": {
    "executionInfo": {
     "elapsed": 411,
     "status": "ok",
     "timestamp": 1633888897514,
     "user": {
      "displayName": "Mayank Anand",
      "photoUrl": "https://lh3.googleusercontent.com/a/default-user=s64",
      "userId": "09467967711081752301"
     },
     "user_tz": -330
    },
    "id": "GONmN7zlXa-1"
   },
   "outputs": [],
   "source": [
    "lst_d_loss = [x.numpy() for x in lst_d_loss]"
   ]
  },
  {
   "cell_type": "code",
   "execution_count": 42,
   "id": "_rGxO2M1XIlD",
   "metadata": {
    "colab": {
     "base_uri": "https://localhost:8080/",
     "height": 336
    },
    "executionInfo": {
     "elapsed": 415,
     "status": "ok",
     "timestamp": 1633888903865,
     "user": {
      "displayName": "Mayank Anand",
      "photoUrl": "https://lh3.googleusercontent.com/a/default-user=s64",
      "userId": "09467967711081752301"
     },
     "user_tz": -330
    },
    "id": "_rGxO2M1XIlD",
    "outputId": "7310e15a-0cf2-4217-e7e3-c4d345332f1f"
   },
   "outputs": [
    {
     "name": "stderr",
     "output_type": "stream",
     "text": [
      "/usr/local/lib/python3.7/dist-packages/seaborn/_decorators.py:43: FutureWarning: Pass the following variables as keyword args: x, y. From version 0.12, the only valid positional argument will be `data`, and passing other arguments without an explicit keyword will result in an error or misinterpretation.\n",
      "  FutureWarning\n"
     ]
    },
    {
     "data": {
      "text/plain": [
       "<matplotlib.axes._subplots.AxesSubplot at 0x7ff0ab9815d0>"
      ]
     },
     "execution_count": 42,
     "metadata": {},
     "output_type": "execute_result"
    },
    {
     "data": {
      "image/png": "[encoded data removed]",
      "text/plain": [
       "<Figure size 432x288 with 1 Axes>"
      ]
     },
     "metadata": {
      "needs_background": "light"
     },
     "output_type": "display_data"
    }
   ],
   "source": [
    "sns.lineplot(lst_d_loss, np.arange(len(lst_d_loss)))\n",
    "# sns.lineplot(lst_d_loss)"
   ]
  },
  {
   "cell_type": "code",
   "execution_count": null,
   "id": "6mj-974mXNzp",
   "metadata": {
    "id": "6mj-974mXNzp"
   },
   "outputs": [],
   "source": []
  }
 ],
 "metadata": {
  "colab": {
   "name": "GANs.ipynb",
   "provenance": []
  },
  "kernelspec": {
   "display_name": "Python 3 (ipykernel)",
   "language": "python",
   "name": "python3"
  },
  "language_info": {
   "codemirror_mode": {
    "name": "ipython",
    "version": 3
   },
   "file_extension": ".py",
   "mimetype": "text/x-python",
   "name": "python",
   "nbconvert_exporter": "python",
   "pygments_lexer": "ipython3",
   "version": "3.9.7"
  },
  "toc": {
   "base_numbering": 1,
   "nav_menu": {},
   "number_sections": true,
   "sideBar": true,
   "skip_h1_title": false,
   "title_cell": "Table of Contents",
   "title_sidebar": "Contents",
   "toc_cell": true,
   "toc_position": {},
   "toc_section_display": true,
   "toc_window_display": true
  }
 },
 "nbformat": 4,
 "nbformat_minor": 5
}
